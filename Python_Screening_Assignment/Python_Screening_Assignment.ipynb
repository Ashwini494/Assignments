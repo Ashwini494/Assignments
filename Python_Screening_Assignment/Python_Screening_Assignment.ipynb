{
 "cells": [
  {
   "cell_type": "markdown",
   "id": "23a4932f",
   "metadata": {},
   "source": [
    "1. Create a function in python to read the text file and replace specific content of the file.\n",
    "\n",
    "File name example.txt\n",
    "\n",
    "Origin file content:   This is a placement assignment\n",
    "\n",
    "Replace string:        Placement should be replaced by screening.\n",
    "\n",
    "Replaced file content: This is a screening assignment"
   ]
  },
  {
   "cell_type": "code",
   "execution_count": null,
   "id": "a4a0b096",
   "metadata": {},
   "outputs": [],
   "source": [
    "#Place file 'example.txt' in same folder as that of python script\n",
    "with open('example.txt','r') as file_obj:\n",
    "    content = file_obj.readline()\n",
    "\n",
    "content = content.replace(\"placement\",\"screening\")\n",
    "\n",
    "with open('example.txt','w') as file_obj:\n",
    "    file_obj.write(content)"
   ]
  },
  {
   "cell_type": "markdown",
   "id": "65c2cf90",
   "metadata": {},
   "source": [
    "2. Demonstrate use of abstract class, multiple inheritance and decorator in\n",
    "python using examples."
   ]
  },
  {
   "cell_type": "markdown",
   "id": "84162403",
   "metadata": {},
   "source": [
    "#Abstract class:\n",
    "- Abstract class is a class in python which cannot be instantiated.\n",
    "- Python has a module named 'abc' which provides base class 'ABC' to create abstract class.\n",
    "- 'abc' module also provides decorator @abstractmethod which is used to create abstract method.\n",
    "- Abstract class can contain abstract method. Abstract method is a method which does not have implementation. We need to write its implementation in subclass of abstract class.\n",
    "\n",
    "Usecase:\n",
    "    Abstract class can be used in a organization where we need to develop code/feature in a disributed team.\n",
    "    We can create a abstract class which can be used to create blueprints of other classes by developers in team.\n",
    "    for ex. Assume that we have given a task to create a module which takes care of designing specifications of multiple projects.\n",
    "    \n",
    "    #create a abstract class which can be used as blueprint for classes of all the projects \n",
    "    from abc import ABC, abstractmethod\n",
    "    \n",
    "    class vehicle(ABC):\n",
    "        @abstractmethod\n",
    "        def ECU_info(self,name):\n",
    "            pass\n",
    "        \n",
    "        @abstractmethod\n",
    "        def generate_specification(self):\n",
    "            pass\n",
    "        \n",
    "    class sweet200(vehicle):\n",
    "        def ECU_info(self):\n",
    "            print(\"ECU name is ADAS\")\n",
    "\n",
    "        def generate_specification(self):\n",
    "            #code to generate specification of sweet200 project here\n",
    "            print(\"Generating specification for project sweet200\")\n",
    "            \n",
    "    class sweet400(vehicle):\n",
    "        def ECU_info(self):\n",
    "            print(\"ECU name is frmcamADAS\")\n",
    "\n",
    "        def generate_specification(self):\n",
    "            #code to generate specification of sweet400 project here\n",
    "            print(\"Generating specification for project sweet400\")\n",
    "        \n",
    "    #designing specifications for sweet200 project\n",
    "    veh_obj1 = sweet200()\n",
    "    veh_obj1.ECU_info()\n",
    "    veh_obj1.generate_specification()\n",
    "    \n",
    "    #designing specification for sweet400 project\n",
    "    veh_obj2 = sweet400()\n",
    "    veh_obj2.ECU_info()\n",
    "    veh_obj2.generate_specification()\n",
    "    "
   ]
  },
  {
   "cell_type": "code",
   "execution_count": 2,
   "id": "3f52991f",
   "metadata": {},
   "outputs": [
    {
     "name": "stdout",
     "output_type": "stream",
     "text": [
      "In base class: method1\n",
      "In base class: method2\n",
      "In child class: method3\n"
     ]
    }
   ],
   "source": [
    "#Multiple inheritance\n",
    "\n",
    "#Inheritance means inheriting or extending behaviour from parent class to child class\n",
    "\n",
    "#When child class inherits behavious from more than one super classes it is said as multiple inheritance.\n",
    "\n",
    "#for example:\n",
    "    \n",
    "class A():\n",
    "    def method1(self):\n",
    "        print(\"In base class: method1\")\n",
    "class B():\n",
    "    def method2(self):\n",
    "        print(\"In base class: method2\")\n",
    "class C(A,B):       #child class nherits from two superclasses\n",
    "    def method3(self):\n",
    "        print(\"In child class: method3\")\n",
    "obj1 = C()\n",
    "obj1.method1()\n",
    "obj1.method2()\n",
    "obj1.method3()"
   ]
  },
  {
   "cell_type": "code",
   "execution_count": 12,
   "id": "bf0f787f",
   "metadata": {},
   "outputs": [
    {
     "name": "stdout",
     "output_type": "stream",
     "text": [
      "Welcome!.code before function execution\n",
      "Inside test function\n",
      "Goodbye!..code after function execution\n"
     ]
    }
   ],
   "source": [
    "#decorator\n",
    "#decorators are functions in python which modifies functionality of another functions.\n",
    "#decorator can act as wrapper for another functions.\n",
    "\n",
    "#creating a decorator function\n",
    "def sample_decorator(func):\n",
    "    def inner():\n",
    "        print(\"Welcome!.code before function execution\")\n",
    "        \n",
    "        func()\n",
    "        \n",
    "        print(\"Goodbye!..code after function execution\")\n",
    "        \n",
    "    return inner    #decorator returns a wrapping function\n",
    "\n",
    "#please find syntax to use decorator\n",
    "@sample_decorator\n",
    "def test():\n",
    "    print(\"Inside test function\")\n",
    "\n",
    "test()\n",
    "    \n"
   ]
  },
  {
   "cell_type": "code",
   "execution_count": null,
   "id": "6589ec25",
   "metadata": {},
   "outputs": [],
   "source": []
  },
  {
   "cell_type": "code",
   "execution_count": null,
   "id": "912d3cb3",
   "metadata": {},
   "outputs": [],
   "source": []
  }
 ],
 "metadata": {
  "kernelspec": {
   "display_name": "Python 3 (ipykernel)",
   "language": "python",
   "name": "python3"
  },
  "language_info": {
   "codemirror_mode": {
    "name": "ipython",
    "version": 3
   },
   "file_extension": ".py",
   "mimetype": "text/x-python",
   "name": "python",
   "nbconvert_exporter": "python",
   "pygments_lexer": "ipython3",
   "version": "3.9.12"
  }
 },
 "nbformat": 4,
 "nbformat_minor": 5
}
